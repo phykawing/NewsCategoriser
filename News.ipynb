{
  "cells": [
    {
      "cell_type": "code",
      "execution_count": 1,
      "id": "0623a9de",
      "metadata": {
        "id": "0623a9de"
      },
      "outputs": [],
      "source": [
        "import numpy as np\n",
        "import pandas as pd\n",
        "import feedparser\n",
        "import requests\n",
        "from bs4 import BeautifulSoup\n",
        "from datetime import datetime, timedelta, timezone\n",
        "from dateutil import parser\n",
        "import time\n",
        "from langchain_huggingface import HuggingFaceEmbeddings\n",
        "from langchain.vectorstores import FAISS\n",
        "from langchain_community.vectorstores.utils import DistanceStrategy\n",
        "from langchain.schema import Document as LangchainDocument"
      ]
    },
    {
      "cell_type": "markdown",
      "id": "kQX6llAOXese",
      "metadata": {
        "id": "kQX6llAOXese"
      },
      "source": [
        "Initialize HuggingFace BGE model for text embeddings"
      ]
    },
    {
      "cell_type": "code",
      "execution_count": 2,
      "id": "bab55e7f",
      "metadata": {
        "colab": {
          "base_uri": "https://localhost:8080/"
        },
        "id": "bab55e7f",
        "outputId": "bd87a3e6-7676-4ec2-b4b7-b55774c776a1"
      },
      "outputs": [],
      "source": [
        "model_name = \"BAAI/bge-m3\"\n",
        "model_kwargs = {'device': 'cuda'}\n",
        "encode_kwargs = {'normalize_embeddings': True} # True: Normalize for cosine similarity\n",
        "embeddings = HuggingFaceEmbeddings(\n",
        "    model_name=model_name,\n",
        "    model_kwargs=model_kwargs,\n",
        "    encode_kwargs=encode_kwargs\n",
        ")\n"
      ]
    },
    {
      "cell_type": "markdown",
      "id": "8783d392",
      "metadata": {
        "id": "8783d392"
      },
      "source": [
        "# Read Labelled News for Enbedding Vectors"
      ]
    },
    {
      "cell_type": "code",
      "execution_count": 3,
      "id": "4bc92a9c",
      "metadata": {
        "colab": {
          "base_uri": "https://localhost:8080/"
        },
        "collapsed": true,
        "id": "4bc92a9c",
        "outputId": "0bc4cff3-5478-418e-c636-3fe1ed367370"
      },
      "outputs": [
        {
          "name": "stdout",
          "output_type": "stream",
          "text": [
            "Elderly\n",
            "Positive Sample...\n"
          ]
        },
        {
          "name": "stderr",
          "output_type": "stream",
          "text": [
            "c:\\Users\\phykawing\\anaconda3\\lib\\site-packages\\transformers\\models\\xlm_roberta\\modeling_xlm_roberta.py:371: UserWarning: 1Torch was not compiled with flash attention. (Triggered internally at C:\\cb\\pytorch_1000000000000\\work\\aten\\src\\ATen\\native\\transformers\\cuda\\sdp_utils.cpp:263.)\n",
            "  attn_output = torch.nn.functional.scaled_dot_product_attention(\n"
          ]
        },
        {
          "name": "stdout",
          "output_type": "stream",
          "text": [
            "Negative Sample...\n",
            "Housing\n",
            "Positive Sample...\n",
            "Negative Sample...\n",
            "Land Development\n",
            "Positive Sample...\n",
            "Negative Sample...\n",
            "Link REIT\n",
            "Positive Sample...\n",
            "Negative Sample...\n",
            "Pension\n",
            "Positive Sample...\n",
            "Negative Sample...\n",
            "Property\n",
            "Positive Sample...\n",
            "Negative Sample...\n",
            "Public Finance\n",
            "Positive Sample...\n",
            "Negative Sample...\n",
            "Urban Renewal\n",
            "Positive Sample...\n",
            "Negative Sample...\n"
          ]
        }
      ],
      "source": [
        "# Load labeled news data for training embedding vectors\n",
        "mdata = pd.read_csv('NewsDataSave.csv', na_filter=False)\n",
        "\n",
        "# Dictionary to store embeddings by category\n",
        "ev_cat = {}\n",
        "\n",
        "# Generate embedding vectors for each category based on labeled data\n",
        "for cat in mdata.Categories.unique():\n",
        "\n",
        "    print(cat)\n",
        "\n",
        "    ev_list = []\n",
        "\n",
        "    for neg_sample in [0, 1]:\n",
        "\n",
        "        if neg_sample == 0:\n",
        "            print(\"Positive Sample...\")\n",
        "        else:\n",
        "            print(\"Negative Sample...\")\n",
        "\n",
        "        sample_list = []\n",
        "\n",
        "        for url in mdata.loc[mdata.Categories == cat].loc[mdata.Negative == neg_sample]['Links']:\n",
        "\n",
        "            if mdata.loc[mdata.Categories == cat].loc[mdata.Negative == neg_sample].loc[mdata.Links == url]['Summary'].values[0] == \"\":\n",
        "\n",
        "                raise ValueError(\"No text summary!\")\n",
        "\n",
        "            else:\n",
        "                title = mdata.loc[mdata.Categories == cat].loc[mdata.Negative == neg_sample].loc[mdata.Links == url]['Titles'].values[0]\n",
        "                content = mdata.loc[mdata.Categories == cat].loc[mdata.Negative == neg_sample].loc[mdata.Links == url]['Summary'].values[0]\n",
        "\n",
        "            # Create embeddings using title and content\n",
        "            sample_list.append(embeddings.embed_query(title + ' ' + content))\n",
        "            # print(title + ' ' + content)\n",
        "\n",
        "        ev_list.append(sample_list)\n",
        "\n",
        "    ev_cat[cat] = ev_list\n"
      ]
    },
    {
      "cell_type": "markdown",
      "id": "x8-2oVCfTxEp",
      "metadata": {
        "id": "x8-2oVCfTxEp"
      },
      "source": [
        "# Read News Sources"
      ]
    },
    {
      "cell_type": "markdown",
      "id": "i--Pq9O3RsC6",
      "metadata": {
        "id": "i--Pq9O3RsC6"
      },
      "source": [
        "## Read Mingpao News"
      ]
    },
    {
      "cell_type": "markdown",
      "id": "9d9c9e67",
      "metadata": {
        "id": "9d9c9e67"
      },
      "source": [
        "Process Mingpao RSS Feeds"
      ]
    },
    {
      "cell_type": "code",
      "execution_count": 4,
      "id": "f4775ff1",
      "metadata": {
        "id": "f4775ff1"
      },
      "outputs": [],
      "source": [
        "# List of RSS feed URLs from Mingpao\n",
        "rss_list = [\"https://news.mingpao.com/rss/pns/s00001.xml\", #要聞\n",
        "            \"https://news.mingpao.com/rss/pns/s00002.xml\", #港聞\n",
        "            \"https://news.mingpao.com/rss/pns/s00003.xml\", #社評\n",
        "            \"https://news.mingpao.com/rss/pns/s00004.xml\", #經濟\n",
        "            \"https://news.mingpao.com/rss/pns/s00005.xml\", #副刊\n",
        "            \"https://news.mingpao.com/rss/pns/s00011.xml\", #教育\n",
        "            \"https://news.mingpao.com/rss/pns/s00012.xml\", #觀點\n",
        "            \"https://news.mingpao.com/rss/pns/s00013.xml\", #中國\n",
        "            \"https://news.mingpao.com/rss/pns/s00014.xml\", #國際\n",
        "            \"https://news.mingpao.com/rss/pns/s00015.xml\", #體育\n",
        "            \"https://news.mingpao.com/rss/pns/s00016.xml\", #娛樂\n",
        "            \"https://news.mingpao.com/rss/pns/s00017.xml\", #英文\n",
        "            \"https://news.mingpao.com/rss/pns/s00018.xml\" #作家專欄\n",
        "            ]\n",
        "\n",
        "# Parse all RSS feeds and aggregate entries\n",
        "feed_list = []\n",
        "for rss in rss_list:\n",
        "    feed = feedparser.parse(rss)\n",
        "    feed_list += feed.entries"
      ]
    },
    {
      "cell_type": "markdown",
      "id": "8723449d",
      "metadata": {
        "id": "8723449d"
      },
      "source": [
        "Filter for today's news only"
      ]
    },
    {
      "cell_type": "code",
      "execution_count": 5,
      "id": "dd7996d7",
      "metadata": {
        "colab": {
          "base_uri": "https://localhost:8080/"
        },
        "id": "dd7996d7",
        "outputId": "be474317-6cc4-441e-c229-bbb7a896e443"
      },
      "outputs": [
        {
          "name": "stdout",
          "output_type": "stream",
          "text": [
            "Today's date: 2025-07-03\n",
            "No. of news: 141\n"
          ]
        }
      ],
      "source": [
        "today = datetime.now(timezone(timedelta(hours=8)))\n",
        "print(\"Today's date:\", today.date())\n",
        "today = today.replace(hour=0, minute=0, second=0, microsecond=0).astimezone(timezone(timedelta(hours=0)))\n",
        "\n",
        "\n",
        "feed_list = [feed for feed in feed_list if parser.parse(feed.published) >= today]\n",
        "\n",
        "print('No. of news:', len(feed_list))"
      ]
    },
    {
      "cell_type": "markdown",
      "id": "4f70ad62",
      "metadata": {
        "id": "4f70ad62"
      },
      "source": [
        "Convert RSS entries to LangChain document format"
      ]
    },
    {
      "cell_type": "code",
      "execution_count": 6,
      "id": "25566331",
      "metadata": {
        "id": "25566331"
      },
      "outputs": [],
      "source": [
        "documents = []\n",
        "for entry in feed_list:\n",
        "    content = entry.title + \" \" + entry.summary\n",
        "    metadata = {\n",
        "        \"source\": \"/\".join(entry.link.split(\"/\")[:-1]),\n",
        "        \"title\": entry.title,\n",
        "        \"newspaper\": \"明報\"\n",
        "    }\n",
        "    documents.append(LangchainDocument(page_content=content, metadata=metadata))"
      ]
    },
    {
      "cell_type": "markdown",
      "id": "e1ed2513",
      "metadata": {
        "id": "e1ed2513"
      },
      "source": [
        " Build vector store for Mingpao documents"
      ]
    },
    {
      "cell_type": "code",
      "execution_count": 7,
      "id": "b9f763c2",
      "metadata": {
        "colab": {
          "base_uri": "https://localhost:8080/",
          "height": 35
        },
        "id": "b9f763c2",
        "outputId": "966edeb3-5f51-4c4b-befe-8010e12bc863"
      },
      "outputs": [
        {
          "data": {
            "text/plain": [
              "<DistanceStrategy.COSINE: 'COSINE'>"
            ]
          },
          "execution_count": 7,
          "metadata": {},
          "output_type": "execute_result"
        }
      ],
      "source": [
        "db = FAISS.from_documents(documents, embeddings, distance_strategy=DistanceStrategy.COSINE) #EUCLIDEAN_DISTANCE/MAX_INNER_PRODUCT/DOT_PRODUCT/JACCARD/COSINE\n",
        "\n",
        "db.distance_strategy"
      ]
    },
    {
      "cell_type": "markdown",
      "id": "835ece43",
      "metadata": {
        "id": "835ece43"
      },
      "source": [
        "## Read Oriental Daily News"
      ]
    },
    {
      "cell_type": "markdown",
      "id": "wnmurSwIWrnA",
      "metadata": {
        "id": "wnmurSwIWrnA"
      },
      "source": [
        "Scrape Oriental Daily News Site"
      ]
    },
    {
      "cell_type": "code",
      "execution_count": 8,
      "id": "a95309c3",
      "metadata": {
        "id": "a95309c3"
      },
      "outputs": [],
      "source": [
        "today = datetime.now()\n",
        "\n",
        "url = r'https://orientaldaily.on.cc/section/sitemap/' + today.date().strftime('%Y%m%d')\n",
        "\n",
        "response = requests.get(url)\n",
        "\n",
        "soup = BeautifulSoup(response.text, 'html.parser')\n",
        "\n",
        "items = soup.find_all('li', attrs={'class': 'item'})"
      ]
    },
    {
      "cell_type": "markdown",
      "id": "-L7skg-3WvbY",
      "metadata": {
        "id": "-L7skg-3WvbY"
      },
      "source": [
        "Scrape individual news articles"
      ]
    },
    {
      "cell_type": "code",
      "execution_count": 9,
      "id": "8ce69f42",
      "metadata": {
        "id": "8ce69f42"
      },
      "outputs": [],
      "source": [
        "on_list = []\n",
        "\n",
        "for item in items:\n",
        "    title = item.text\n",
        "    link = r'https://orientaldaily.on.cc' + item.find('a')['href']\n",
        "\n",
        "    try:\n",
        "        response = requests.get(link)\n",
        "    except:\n",
        "        time.sleep(3)\n",
        "        response = requests.get(link)\n",
        "\n",
        "    soup = BeautifulSoup(response.text, 'html.parser')\n",
        "    paras = soup.find_all('div', class_ = 'paragraph')\n",
        "\n",
        "    content = ''\n",
        "\n",
        "    for p in paras:\n",
        "        content += p.get_text()\n",
        "\n",
        "    content = ''.join(content.split())\n",
        "\n",
        "    on_list.append([title, link, content])"
      ]
    },
    {
      "cell_type": "code",
      "execution_count": 10,
      "id": "dc8c3c76",
      "metadata": {
        "colab": {
          "base_uri": "https://localhost:8080/"
        },
        "id": "dc8c3c76",
        "outputId": "8a26a45f-053c-4031-ee13-644df5aba72e"
      },
      "outputs": [
        {
          "name": "stdout",
          "output_type": "stream",
          "text": [
            "No. of news: 193\n"
          ]
        }
      ],
      "source": [
        "print('No. of news:', len(on_list))"
      ]
    },
    {
      "cell_type": "markdown",
      "id": "cZU6h51UW1hI",
      "metadata": {
        "id": "cZU6h51UW1hI"
      },
      "source": [
        "Convert to LangChain document format"
      ]
    },
    {
      "cell_type": "code",
      "execution_count": 11,
      "id": "8f8dab09",
      "metadata": {
        "id": "8f8dab09"
      },
      "outputs": [],
      "source": [
        "on_documents = []\n",
        "for entry in on_list:\n",
        "    content = entry[0] + ' ' + entry[2]\n",
        "    metadata = {\n",
        "        \"source\": \"/\".join(entry[1].split(\"/\")[:-1]) + \"/\",\n",
        "        \"title\": entry[0],\n",
        "        \"newspaper\": \"東方日報\"\n",
        "    }\n",
        "    on_documents.append(LangchainDocument(page_content=content, metadata=metadata))"
      ]
    },
    {
      "cell_type": "code",
      "execution_count": 12,
      "id": "7cfd0524",
      "metadata": {
        "colab": {
          "base_uri": "https://localhost:8080/",
          "height": 35
        },
        "id": "7cfd0524",
        "outputId": "1d43b30c-bc2a-41b3-9b1f-55fa65f34043"
      },
      "outputs": [
        {
          "data": {
            "text/plain": [
              "<DistanceStrategy.COSINE: 'COSINE'>"
            ]
          },
          "execution_count": 12,
          "metadata": {},
          "output_type": "execute_result"
        }
      ],
      "source": [
        "on_db = FAISS.from_documents(on_documents, embeddings, distance_strategy=DistanceStrategy.COSINE) #EUCLIDEAN_DISTANCE/MAX_INNER_PRODUCT/DOT_PRODUCT/JACCARD/COSINE\n",
        "\n",
        "on_db.distance_strategy"
      ]
    },
    {
      "cell_type": "markdown",
      "id": "f5f413c0",
      "metadata": {
        "id": "f5f413c0"
      },
      "source": [
        "## Read HK Gov News"
      ]
    },
    {
      "cell_type": "markdown",
      "id": "EvbPKYOGW5Ob",
      "metadata": {
        "id": "EvbPKYOGW5Ob"
      },
      "source": [
        "Parse HK Government News Feed"
      ]
    },
    {
      "cell_type": "code",
      "execution_count": 13,
      "id": "27bf19a1",
      "metadata": {
        "id": "27bf19a1"
      },
      "outputs": [],
      "source": [
        "rss_list_hkgov = [\"https://www.info.gov.hk/gia/rss/general_zh.xml\"] #新聞公報\n",
        "\n",
        "feed_list_hkgov = []\n",
        "\n",
        "# Parse HK Gov RSS feeds\n",
        "for rss in rss_list_hkgov:\n",
        "    feed = feedparser.parse(rss)\n",
        "    feed_list_hkgov += feed.entries"
      ]
    },
    {
      "cell_type": "markdown",
      "id": "FmTuGqSUXBZI",
      "metadata": {
        "id": "FmTuGqSUXBZI"
      },
      "source": [
        "Filter for news from the last 24 hours"
      ]
    },
    {
      "cell_type": "code",
      "execution_count": 14,
      "id": "b6f82c27",
      "metadata": {
        "colab": {
          "base_uri": "https://localhost:8080/"
        },
        "id": "b6f82c27",
        "outputId": "ecd552af-c638-4e3c-87cc-3917717df152"
      },
      "outputs": [
        {
          "name": "stdout",
          "output_type": "stream",
          "text": [
            "Yesterday's date: 2025-07-02\n",
            "No. of news: 50\n"
          ]
        }
      ],
      "source": [
        "yesterday = datetime.now(timezone(timedelta(hours=8))) - timedelta(hours=24)\n",
        "print(\"Yesterday's date:\", yesterday.date())\n",
        "yesterday = yesterday.replace(hour=0, minute=0, second=0, microsecond=0).astimezone(timezone(timedelta(hours=0)))\n",
        "\n",
        "\n",
        "feed_list_hkgov = [feed for feed in feed_list_hkgov if parser.parse(feed.published) >= yesterday]\n",
        "\n",
        "print('No. of news:', len(feed_list_hkgov))"
      ]
    },
    {
      "cell_type": "markdown",
      "id": "zbzXgfPMXD5S",
      "metadata": {
        "id": "zbzXgfPMXD5S"
      },
      "source": [
        "Convert to LangChain document format"
      ]
    },
    {
      "cell_type": "code",
      "execution_count": 15,
      "id": "836d4dc3",
      "metadata": {
        "id": "836d4dc3"
      },
      "outputs": [],
      "source": [
        "hkgov_documents = []\n",
        "for entry in feed_list_hkgov:\n",
        "    soup = BeautifulSoup(entry.summary, 'html.parser')\n",
        "    entry_summary = soup.text.replace(\"\\n\", \"\")\n",
        "\n",
        "    content = entry.title + ' ' + entry_summary\n",
        "    metadata = {\n",
        "        \"source\": entry.link,\n",
        "        \"title\": entry.title,\n",
        "        \"newspaper\": \"新聞公報\"\n",
        "    }\n",
        "    hkgov_documents.append(LangchainDocument(page_content=content, metadata=metadata))"
      ]
    },
    {
      "cell_type": "code",
      "execution_count": 16,
      "id": "b6316c7c",
      "metadata": {
        "colab": {
          "base_uri": "https://localhost:8080/",
          "height": 35
        },
        "id": "b6316c7c",
        "outputId": "2808b09c-a25e-4f59-99da-f37d2a0433ad"
      },
      "outputs": [
        {
          "data": {
            "text/plain": [
              "<DistanceStrategy.COSINE: 'COSINE'>"
            ]
          },
          "execution_count": 16,
          "metadata": {},
          "output_type": "execute_result"
        }
      ],
      "source": [
        "gia_db = FAISS.from_documents(hkgov_documents, embeddings, distance_strategy=DistanceStrategy.COSINE) #EUCLIDEAN_DISTANCE/MAX_INNER_PRODUCT/DOT_PRODUCT/JACCARD/COSINE\n",
        "\n",
        "gia_db.distance_strategy"
      ]
    },
    {
      "cell_type": "markdown",
      "id": "8vtxLy4PT7Pd",
      "metadata": {
        "id": "8vtxLy4PT7Pd"
      },
      "source": [
        "# Perform Similarity Searches"
      ]
    },
    {
      "cell_type": "markdown",
      "id": "781fe483",
      "metadata": {
        "id": "781fe483"
      },
      "source": [
        "## Search for relevant Mingpao news articles"
      ]
    },
    {
      "cell_type": "code",
      "execution_count": 17,
      "id": "f4265109",
      "metadata": {
        "colab": {
          "base_uri": "https://localhost:8080/"
        },
        "id": "f4265109",
        "outputId": "3e399beb-f64a-4e80-e472-44f52bb203a9"
      },
      "outputs": [
        {
          "name": "stdout",
          "output_type": "stream",
          "text": [
            "Elderly\n",
            "Housing\n",
            "0.6710038: 王柏林、牛致行、宋恩榮：居屋二手市場流通窒息 買賣限制須大幅放寬 https://news.mingpao.com/pns/%e8%a7%80%e9%bb%9e/article/20250703/s00012/1751474124497\n",
            "Land Development\n",
            "0.6205528: 新地米埔申建2322伙 規劃署不反對  較12年前獲批71幢洋房大增31倍 https://news.mingpao.com/pns/%e7%b6%93%e6%bf%9f/article/20250703/s00004/1751474133250\n",
            "Link REIT\n",
            "Pension\n",
            "Property\n",
            "0.6610782: 前環球唱片黃劍濤928萬沽囍滙1房戶 https://news.mingpao.com/pns/%e7%b6%93%e6%bf%9f/article/20250703/s00004/1751474134191\n",
            "0.66451335: 先達120呎舖150萬沽  20年蝕44% https://news.mingpao.com/pns/%e7%b6%93%e6%bf%9f/article/20250703/s00004/1751474134284\n",
            "0.6896319: 德祥上鄉道工廈轉住宅 每呎補價1060元 https://news.mingpao.com/pns/%e7%b6%93%e6%bf%9f/article/20250703/s00004/1751474133612\n",
            "Public Finance\n",
            "Urban Renewal\n"
          ]
        }
      ],
      "source": [
        "for cat in mdata.Categories.unique():\n",
        "\n",
        "    print(cat)\n",
        "\n",
        "    ev_pos = np.sum(ev_cat[cat][0], axis=0)\n",
        "    ev_neg = np.sum(ev_cat[cat][1], axis=0)\n",
        "    ev = ev_pos - ev_neg\n",
        "    ev = ev / np.linalg.norm(ev)\n",
        "    for item in db.similarity_search_with_score_by_vector(ev, k=10, score_threshold=0.7):\n",
        "        print(str(item[1]) + \": \" + item[0].metadata[\"title\"] + \" \" + item[0].metadata[\"source\"])"
      ]
    },
    {
      "cell_type": "markdown",
      "id": "SpNncfRYSPe9",
      "metadata": {
        "id": "SpNncfRYSPe9"
      },
      "source": [
        "## Search for relevant Oriental Daily news"
      ]
    },
    {
      "cell_type": "code",
      "execution_count": 18,
      "id": "b90948df",
      "metadata": {
        "colab": {
          "base_uri": "https://localhost:8080/"
        },
        "id": "b90948df",
        "outputId": "c642e9aa-f1c1-46f6-b7e3-6e0a8de2664c"
      },
      "outputs": [
        {
          "name": "stdout",
          "output_type": "stream",
          "text": [
            "Elderly\n",
            "Housing\n",
            "0.50589514: 推行簡樸房  過渡屋倡增「丙類租戶」 https://orientaldaily.on.cc/content/要聞港聞/odn-20250703-0703_00176_043/\n",
            "0.655644: 私人樓宇滲漏嚴重  3年接投訴13萬宗 https://orientaldaily.on.cc/content/要聞港聞/odn-20250703-0703_00176_041/\n",
            "0.66969156: 收回精進3地盤  房會覓承建商 https://orientaldaily.on.cc/content/要聞港聞/odn-20250703-0703_00176_044/\n",
            "Land Development\n",
            "0.61173785: 議員憂變「特特區」  北都管理局告吹 https://orientaldaily.on.cc/content/要聞港聞/odn-20250703-0703_00176_201/\n",
            "0.66903806: 收回精進3地盤  房會覓承建商 https://orientaldaily.on.cc/content/要聞港聞/odn-20250703-0703_00176_044/\n",
            "0.6820229: 地產速報一覽 https://orientaldaily.on.cc/content/產經/odn-20250703-0703_00204_048/\n",
            "Link REIT\n",
            "Pension\n",
            "Property\n",
            "0.47273552: 地產速報一覽 https://orientaldaily.on.cc/content/產經/odn-20250703-0703_00204_048/\n",
            "0.49120227: 公居屋成交：銀河苑未補價賣185萬  僅升9.7% https://orientaldaily.on.cc/content/產經/odn-20250703-0703_00204_043/\n",
            "0.5411675: 二手低價：尚悅特色銀主盤1125萬拍出  7載貶42% https://orientaldaily.on.cc/content/產經/odn-20250703-0703_00204_042/\n",
            "0.60631007: 港銀或需3年化解地產商信貸風險 https://orientaldaily.on.cc/content/產經/odn-20250703-0703_00202_004/\n",
            "0.6185167: 現樓新盤群起吸客 https://orientaldaily.on.cc/content/產經/odn-20250703-0703_00204_040/\n",
            "0.64450395: 柏瓏II連沽18單位  吸金逾1.3億 https://orientaldaily.on.cc/content/產經/odn-20250703-0703_00204_041/\n",
            "0.6820016: 金管不足一周再買入200億港元 https://orientaldaily.on.cc/content/產經/odn-20250703-0703_00202_003/\n",
            "0.6978656: 人幣匯率指數跌  料釋對貿易國貶值壓力 https://orientaldaily.on.cc/content/產經/odn-20250703-0703_00202_022/\n",
            "Public Finance\n",
            "0.6839926: 增薪點評核寬鬆  前高官質疑制度遭濫用 https://orientaldaily.on.cc/content/要聞港聞/odn-20250703-0703_00176_025/\n",
            "Urban Renewal\n"
          ]
        }
      ],
      "source": [
        "for cat in mdata.Categories.unique():\n",
        "\n",
        "    print(cat)\n",
        "\n",
        "    ev_pos = np.sum(ev_cat[cat][0], axis=0)\n",
        "    ev_neg = np.sum(ev_cat[cat][1], axis=0)\n",
        "    ev = ev_pos - ev_neg\n",
        "    ev = ev / np.linalg.norm(ev)\n",
        "    for item in on_db.similarity_search_with_score_by_vector(ev, k=10, score_threshold=0.7):\n",
        "        print(str(item[1]) + ': ' + item[0].metadata[\"title\"] + \" \" + item[0].metadata[\"source\"])"
      ]
    },
    {
      "cell_type": "markdown",
      "id": "rKCA8roqSZRT",
      "metadata": {
        "id": "rKCA8roqSZRT"
      },
      "source": [
        "## Search for relevant HK Gov news"
      ]
    },
    {
      "cell_type": "code",
      "execution_count": 19,
      "id": "c04cdce8",
      "metadata": {
        "colab": {
          "base_uri": "https://localhost:8080/"
        },
        "id": "c04cdce8",
        "outputId": "aa2df2ec-6043-4c77-9c3d-a19be8a9418e"
      },
      "outputs": [
        {
          "name": "stdout",
          "output_type": "stream",
          "text": [
            "Elderly\n",
            "0.6297854: ​立法會十題：打擊濫用公共福利及公屋 https://www.info.gov.hk/gia/general/202507/02/P2025070200297.htm\n",
            "0.68255764: 立法會七題：優化強制性公積金制度 https://www.info.gov.hk/gia/general/202507/02/P2025070200345.htm\n",
            "Housing\n",
            "0.40112507: ​立法會十題：打擊濫用公共福利及公屋 https://www.info.gov.hk/gia/general/202507/02/P2025070200297.htm\n",
            "0.45401752: 立法會九題：資助出售房屋的轉讓限制措施 https://www.info.gov.hk/gia/general/202507/02/P2025070200384.htm\n",
            "0.6178713: 房委會收回三個建築地盤 https://www.info.gov.hk/gia/general/202507/02/P2025070200401.htm\n",
            "0.62069786: 立法會三題：推動民宿發展 https://www.info.gov.hk/gia/general/202507/02/P2025070200411.htm\n",
            "0.6592362: ​立法會十四題：滲水投訴調查聯合辦事處 https://www.info.gov.hk/gia/general/202507/02/P2025070200455.htm\n",
            "Land Development\n",
            "0.51930326: 立法會︰發展局局長就「設立創新體制機制，全速推進『北部都會區核心區』的發展」動議議案開場發言（只有中文） https://www.info.gov.hk/gia/general/202507/02/P2025070200703.htm\n",
            "0.5913238: ​立法會二十題：跨境海上旅遊 https://www.info.gov.hk/gia/general/202507/02/P2025070200637.htm\n",
            "0.597106: ​立法會︰發展局局長就「設立創新體制機制，全速推進『北部都會區核心區』的發展」動議議案總結發言（只有中文） https://www.info.gov.hk/gia/general/202507/02/P2025070200829.htm\n",
            "0.61291015: 立法會九題：資助出售房屋的轉讓限制措施 https://www.info.gov.hk/gia/general/202507/02/P2025070200384.htm\n",
            "0.67955947: 房委會收回三個建築地盤 https://www.info.gov.hk/gia/general/202507/02/P2025070200401.htm\n",
            "Link REIT\n",
            "Pension\n",
            "0.39018595: 立法會七題：優化強制性公積金制度 https://www.info.gov.hk/gia/general/202507/02/P2025070200345.htm\n",
            "0.67911726: ​立法會十題：打擊濫用公共福利及公屋 https://www.info.gov.hk/gia/general/202507/02/P2025070200297.htm\n",
            "Property\n",
            "0.60158485: 立法會九題：資助出售房屋的轉讓限制措施 https://www.info.gov.hk/gia/general/202507/02/P2025070200384.htm\n",
            "Public Finance\n",
            "0.6775668: 立法會七題：優化強制性公積金制度 https://www.info.gov.hk/gia/general/202507/02/P2025070200345.htm\n",
            "0.68785423: ​立法會十題：打擊濫用公共福利及公屋 https://www.info.gov.hk/gia/general/202507/02/P2025070200297.htm\n",
            "Urban Renewal\n"
          ]
        }
      ],
      "source": [
        "for cat in mdata.Categories.unique():\n",
        "\n",
        "    print(cat)\n",
        "\n",
        "    ev_pos = np.sum(ev_cat[cat][0], axis=0)\n",
        "    ev_neg = np.sum(ev_cat[cat][1], axis=0)\n",
        "    ev = ev_pos - ev_neg\n",
        "    ev = ev / np.linalg.norm(ev)\n",
        "    for item in gia_db.similarity_search_with_score_by_vector(ev, k=10, score_threshold=0.7):\n",
        "        print(str(item[1]) + ': ' + item[0].metadata[\"title\"] + \" \" + item[0].metadata[\"source\"])"
      ]
    }
  ],
  "metadata": {
    "accelerator": "GPU",
    "colab": {
      "gpuType": "T4",
      "provenance": []
    },
    "kernelspec": {
      "display_name": "base",
      "language": "python",
      "name": "python3"
    },
    "language_info": {
      "codemirror_mode": {
        "name": "ipython",
        "version": 3
      },
      "file_extension": ".py",
      "mimetype": "text/x-python",
      "name": "python",
      "nbconvert_exporter": "python",
      "pygments_lexer": "ipython3",
      "version": "3.10.15"
    }
  },
  "nbformat": 4,
  "nbformat_minor": 5
}
